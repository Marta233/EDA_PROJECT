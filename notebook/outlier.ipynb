{
 "cells": [
  {
   "cell_type": "code",
   "execution_count": 1,
   "metadata": {},
   "outputs": [],
   "source": [
    "import pandas as pd\n",
    "import sys\n",
    "import os\n",
    "sys.path.insert(0, '/SOLAR_RADIATION_EDA/')\n",
    "from src.basic_stastic import BasicStas "
   ]
  },
  {
   "cell_type": "code",
   "execution_count": 2,
   "metadata": {},
   "outputs": [],
   "source": [
    "from scripts.Visual import Visual"
   ]
  },
  {
   "cell_type": "code",
   "execution_count": 3,
   "metadata": {},
   "outputs": [],
   "source": [
    "data1 = '../data/benin-malanville.csv' \n",
    "data2 = '../data/sierraleone-bumbuna.csv'\n",
    "data3 = '../data/togo-dapaong_qc.csv'"
   ]
  },
  {
   "cell_type": "code",
   "execution_count": 4,
   "metadata": {},
   "outputs": [],
   "source": [
    "benin_data = pd.read_csv(data1)\n",
    "sier_data = pd.read_csv(data2)\n",
    "togo_data = pd.read_csv(data3)"
   ]
  },
  {
   "cell_type": "code",
   "execution_count": 5,
   "metadata": {},
   "outputs": [],
   "source": [
    "benin_data1 = Visual(benin_data)\n",
    "sier_data1 = Visual(sier_data)\n",
    "togo_data1 = Visual(togo_data)"
   ]
  },
  {
   "cell_type": "code",
   "execution_count": 6,
   "metadata": {},
   "outputs": [
    {
     "data": {
      "text/plain": [
       "{'GHI': np.int64(89),\n",
       " 'DNI': np.int64(0),\n",
       " 'DHI': np.int64(3738),\n",
       " 'ModA': np.int64(27),\n",
       " 'ModB': np.int64(63),\n",
       " 'Tamb': np.int64(0),\n",
       " 'RH': np.int64(0),\n",
       " 'WS': np.int64(3109),\n",
       " 'WSgust': np.int64(3500),\n",
       " 'WSstdev': np.int64(5653),\n",
       " 'WD': np.int64(0),\n",
       " 'WDstdev': np.int64(4765),\n",
       " 'BP': np.int64(865),\n",
       " 'Cleaning': np.int64(485),\n",
       " 'Precipitation': np.int64(1402),\n",
       " 'TModA': np.int64(10),\n",
       " 'TModB': np.int64(98),\n",
       " 'Comments': np.int64(0)}"
      ]
     },
     "execution_count": 6,
     "metadata": {},
     "output_type": "execute_result"
    }
   ],
   "source": [
    "benin_data1.outlier_count_z_score_all_fields(3)"
   ]
  },
  {
   "cell_type": "code",
   "execution_count": 7,
   "metadata": {},
   "outputs": [
    {
     "data": {
      "text/plain": [
       "{'GHI': np.int64(2477),\n",
       " 'DNI': np.int64(7586),\n",
       " 'DHI': np.int64(2986),\n",
       " 'ModA': np.int64(1604),\n",
       " 'ModB': np.int64(2041),\n",
       " 'Tamb': np.int64(192),\n",
       " 'RH': np.int64(4929),\n",
       " 'WS': np.int64(3967),\n",
       " 'WSgust': np.int64(3665),\n",
       " 'WSstdev': np.int64(2410),\n",
       " 'WD': np.int64(0),\n",
       " 'WDstdev': np.int64(5140),\n",
       " 'BP': np.int64(977),\n",
       " 'Cleaning': np.int64(508),\n",
       " 'Precipitation': np.int64(4067),\n",
       " 'TModA': np.int64(100),\n",
       " 'TModB': np.int64(4),\n",
       " 'Comments': np.int64(0)}"
      ]
     },
     "execution_count": 7,
     "metadata": {},
     "output_type": "execute_result"
    }
   ],
   "source": [
    "sier_data1.outlier_count_z_score_all_fields(3)"
   ]
  },
  {
   "cell_type": "code",
   "execution_count": 8,
   "metadata": {},
   "outputs": [
    {
     "data": {
      "text/plain": [
       "{'GHI': np.int64(305),\n",
       " 'DNI': np.int64(1062),\n",
       " 'DHI': np.int64(3415),\n",
       " 'ModA': np.int64(137),\n",
       " 'ModB': np.int64(206),\n",
       " 'Tamb': np.int64(0),\n",
       " 'RH': np.int64(0),\n",
       " 'WS': np.int64(3510),\n",
       " 'WSgust': np.int64(3915),\n",
       " 'WSstdev': np.int64(5753),\n",
       " 'WD': np.int64(0),\n",
       " 'WDstdev': np.int64(3362),\n",
       " 'BP': np.int64(1019),\n",
       " 'Cleaning': np.int64(281),\n",
       " 'Precipitation': np.int64(3338),\n",
       " 'TModA': np.int64(153),\n",
       " 'TModB': np.int64(609),\n",
       " 'Comments': np.int64(0)}"
      ]
     },
     "execution_count": 8,
     "metadata": {},
     "output_type": "execute_result"
    }
   ],
   "source": [
    "togo_data1.outlier_count_z_score_all_fields(3)"
   ]
  },
  {
   "cell_type": "code",
   "execution_count": 9,
   "metadata": {},
   "outputs": [],
   "source": [
    "x_col='GHI',\n",
    "y_col='Tamb',\n",
    "size_col='RH',\n",
    "color_col='BP',"
   ]
  },
  {
   "cell_type": "code",
   "execution_count": null,
   "metadata": {},
   "outputs": [],
   "source": [
    "benin_data1.create_bubble_chart(x_col,y_col,size_col,color_col)"
   ]
  }
 ],
 "metadata": {
  "kernelspec": {
   "display_name": "Python 3",
   "language": "python",
   "name": "python3"
  },
  "language_info": {
   "codemirror_mode": {
    "name": "ipython",
    "version": 3
   },
   "file_extension": ".py",
   "mimetype": "text/x-python",
   "name": "python",
   "nbconvert_exporter": "python",
   "pygments_lexer": "ipython3",
   "version": "3.11.2"
  }
 },
 "nbformat": 4,
 "nbformat_minor": 2
}
