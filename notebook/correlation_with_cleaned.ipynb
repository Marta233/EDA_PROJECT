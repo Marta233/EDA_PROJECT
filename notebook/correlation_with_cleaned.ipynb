{
 "cells": [
  {
   "cell_type": "code",
   "execution_count": null,
   "metadata": {},
   "outputs": [],
   "source": [
    "import pandas as pd\n",
    "import sys\n",
    "import os\n",
    "sys.path.insert(0, '/10 A KAI 2/SOLAR_RADIATION_EDA/')\n"
   ]
  },
  {
   "cell_type": "code",
   "execution_count": null,
   "metadata": {},
   "outputs": [],
   "source": [
    "from src.Visualization import Visualization\n",
    "from src.Visualization1 import Visualization1 "
   ]
  },
  {
   "cell_type": "code",
   "execution_count": null,
   "metadata": {},
   "outputs": [],
   "source": [
    "data1 = '../data/benin-malanville.csv' \n",
    "data2 = '../data/sierraleone-bumbuna.csv'\n",
    "data3 = '../data/togo-dapaong_qc.csv'"
   ]
  },
  {
   "cell_type": "code",
   "execution_count": null,
   "metadata": {},
   "outputs": [],
   "source": [
    "benin_data = pd.read_csv(data1)\n",
    "sier_data = pd.read_csv(data2)\n",
    "togo_data = pd.read_csv(data3)"
   ]
  },
  {
   "cell_type": "code",
   "execution_count": null,
   "metadata": {},
   "outputs": [],
   "source": [
    "benin_data1 = Data_cleansing(benin_data)\n",
    "sier_data1 = Data_cleansing(sier_data)\n",
    "togo_data1 = Data_cleansing(togo_data)"
   ]
  },
  {
   "cell_type": "code",
   "execution_count": null,
   "metadata": {},
   "outputs": [],
   "source": [
    "benin_data1 = Visualization1(benin_data)\n",
    "sier_data1 = Visualization1(sier_data)\n",
    "togo_data1 = Visualization1(togo_data)"
   ]
  },
  {
   "cell_type": "code",
   "execution_count": null,
   "metadata": {},
   "outputs": [],
   "source": [
    "col_list = ['GHI','DNI','DHI']\n",
    "col_list1 = ['GHI']"
   ]
  },
  {
   "cell_type": "code",
   "execution_count": null,
   "metadata": {},
   "outputs": [],
   "source": [
    "benin_data1.impute_negative_with_zero(col_list)\n",
    "sier_data1.impute_negative_with_zero(col_list)\n",
    "togo_data1.impute_negative_with_zero(col_list1)"
   ]
  },
  {
   "cell_type": "code",
   "execution_count": null,
   "metadata": {},
   "outputs": [],
   "source": [
    "seri_da = sier_data1.data\n",
    "benin_da = benin_data1.data\n",
    "togo_da = togo_data1.data"
   ]
  },
  {
   "cell_type": "code",
   "execution_count": null,
   "metadata": {},
   "outputs": [],
   "source": [
    "benin_data1 = Visualization(benin_da)\n",
    "sier_data1 = Visualization(seri_da)\n",
    "togo_data1 = Visualization(togo_da)"
   ]
  },
  {
   "cell_type": "code",
   "execution_count": null,
   "metadata": {},
   "outputs": [],
   "source": [
    "seri_da"
   ]
  },
  {
   "cell_type": "code",
   "execution_count": null,
   "metadata": {},
   "outputs": [],
   "source": [
    "x ='Timestamp'\n",
    "y = ['GHI','DNI','DHI','Tamb']"
   ]
  },
  {
   "cell_type": "code",
   "execution_count": null,
   "metadata": {},
   "outputs": [],
   "source": [
    "benin_data1.plot_line_graph_with_timestamp(x,y)"
   ]
  },
  {
   "cell_type": "code",
   "execution_count": null,
   "metadata": {},
   "outputs": [],
   "source": [
    "sier_data1.plot_line_graph_with_timestamp(x,y)"
   ]
  },
  {
   "cell_type": "code",
   "execution_count": null,
   "metadata": {},
   "outputs": [],
   "source": [
    "togo_data1.plot_line_graph_with_timestamp(x,y)"
   ]
  },
  {
   "cell_type": "code",
   "execution_count": null,
   "metadata": {},
   "outputs": [],
   "source": [
    "features = ['GHI', 'DNI', 'DHI', 'TModA', 'TModB']\n",
    "benin_data1.plot_correlation_heatmap(features)"
   ]
  },
  {
   "cell_type": "code",
   "execution_count": null,
   "metadata": {},
   "outputs": [],
   "source": []
  }
 ],
 "metadata": {
  "kernelspec": {
   "display_name": ".venv",
   "language": "python",
   "name": "python3"
  },
  "language_info": {
   "codemirror_mode": {
    "name": "ipython",
    "version": 3
   },
   "file_extension": ".py",
   "mimetype": "text/x-python",
   "name": "python",
   "nbconvert_exporter": "python",
   "pygments_lexer": "ipython3",
   "version": "3.11.2"
  }
 },
 "nbformat": 4,
 "nbformat_minor": 2
}
